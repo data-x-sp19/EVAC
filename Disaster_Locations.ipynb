{
 "cells": [
  {
   "cell_type": "code",
   "execution_count": 3,
   "metadata": {},
   "outputs": [],
   "source": [
    "import pandas as pd\n",
    "import numpy as np\n",
    "import seaborn as sns\n",
    "import matplotlib.pyplot as plt\n"
   ]
  },
  {
   "cell_type": "code",
   "execution_count": 2,
   "metadata": {},
   "outputs": [
    {
     "name": "stdout",
     "output_type": "stream",
     "text": [
      "\n",
      "\n",
      " Columbus, OH Natural Disasters and Weather Extremes - USA.com™\n",
      "\n",
      "\n",
      " \n",
      "\n",
      "\n",
      "\n",
      "\n",
      "Local Data Search  tyhInit();\n",
      " \n",
      "\n",
      "\n",
      "USA.com / Ohio / Columbus, OH / Natural Disasters and Weather Extremes\n",
      "Columbus, OH Natural Disasters and Weather ExtremesBasic InfoPopulation/RacesIncome/CareersHousingEducationCrime/Crime RateOthersSchool District | Public Schools | Private Schools | Public Library Weather | Natural Extremes | Air Quality | Environmental Watch | Zip Codes | Government  Hot RankingsFastest / Slowest Growing Cities NearbyBest / Worst Cities by Crime Rate NearbyRichest / Poorest Cities by Income NearbyExpensive / Cheapest Homes NearbyMost / Least Educated Cities NearbyFastest / Slowest Growing Cities in OHHigh / Low OH Cities by Males EmployedHigh / Low OH Cities by Females EmployedBest / Worst Cities by Crime Rate in OHRichest / Poorest Cities by Income in OHExpensive / Cheapest Homes by City in OHMost / Least Educated Cities in OHThe chance of earthquake damage in Columbus is about the same as Ohio average and is much lower than the national average. The risk of tornado damage in Columbus is higher than Ohio average and is higher than the national average. Topics:Earthquake IndexVolcano IndexTornado IndexOther Weather Extremes EventsVolcanos NearbyHistorical Earthquake EventsHistorical Tornado Events <!--\r\n",
      "\twindow.google_analytics_uacct = \"UA-12906387-4\";\r\n",
      "\tgoogle_ad_client = \"ca-pub-1187797442630842\";\r\n",
      "\t/* USA.com_main_geo_pages */\r\n",
      "\tgoogle_ad_slot = \"5529445133\";\r\n",
      "\tgoogle_ad_width = 728;\r\n",
      "\tgoogle_ad_height = 90;\r\n",
      "\t//-->\r\n",
      "\t\n",
      "\n",
      "\n",
      "Earthquake Index, #811Columbus, OH 0.04Ohio 0.16U.S. 1.81The earthquake index value is calculated based on historical earthquake events data using USA.com algorithms. It is an indicator of the earthquake level in a region. A higher earthquake index value means a higher chance of an earthquake.Volcano Index, #1Columbus, OH 0.0000Ohio 0.0000U.S. 0.0023The volcano index value is calculated based on the currently known volcanoes using USA.com algorithms. It is an indicator of the possibility of a region being affected by a possible volcano eruption. A higher volcano index value means a higher chance of being affected.Tornado Index, #474Columbus, OH 177.48Ohio 156.02U.S. 136.45The tornado index value is calculated based on historical tornado events data using USA.com algorithms. It is an indicator of the tornado level in a region. A higher tornado index value means a higher chance of tornado events.Other Weather Extremes EventsA total of 3,615 other weather extremes events within 50 miles of Columbus, OH were recorded from 1950 to 2010. The following is a break down of these events:TypeCountTypeCountTypeCountTypeCountTypeCountAvalanche:0Blizzard:2Cold:34Dense Fog:2Drought:16Dust Storm:0Flood:438Hail:804Heat:22Heavy Snow:47High Surf:0Hurricane:0Ice Storm:22Landslide:0Strong Wind:80Thunderstorm Winds:2,008Tropical Storm:0Wildfire:0Winter Storm:55Winter Weather:14Other:71 Volcanos NearbyNo volcano is found in or near Columbus, OH.Historical Earthquake EventsA total of 1 historical earthquake event that had a recorded magnitude of 3.5 or above found in or near Columbus, OH.Distance (miles)DateMagnitudeDepth (km)LatitudeLongitude37.01967-04-084.2N/A39.6-82.5Historical Tornado EventsA total of 67 historical tornado events that had recorded magnitude of 2 or above found in or near Columbus, OH.Distance (miles)DateMagnitudeStart Lat/LogEnd Lat/LogLengthWidthFatalitiesInjuriesProperty DamageCrop DamageAffected County5.21973-05-10339°55'N / 83°15'W39°55'N / 82°48'W23.80 Miles300 Yards033K0Franklin5.51971-02-22339°58'N / 82°56'W40°02'N / 82°50'W6.80 Miles100 Yards072.5M0Franklin8.31973-05-30240°03'N / 83°07'W2.00 Miles17 Yards012.5M0Franklin9.81970-04-02240°07'N / 82°55'W2.00 Miles440 Yards00250K0Franklin11.41973-05-25240°03'N / 83°11'W00250K0Franklin12.61974-04-03240°05'N / 82°51'W40°08'N / 82°46'W5.10 Miles90 Yards00250K0Franklin12.62006-10-11240°05'N / 82°47'W40°05'N / 82°47'W1.00 Mile150 Yards0050.0M0KFranklin Brief Description: EVENT NARRATIVE: A tornado touched down and moved through the Upper Albany West subdivision. Sixty-seven homes were damaged, sixteen of those severely and an additional eight completely destroyed. Many of the homes sustained significant roof, siding and window damage. Much of the damage was F1, with some low end F2 damage to around 120 mph. EPISODE NARRATIVE: A squall line moved through central Ohio during the evening. Two tornadoes occurred in the Columbus metro area as the squall line moved through.13.11973-05-08240°06'N / 83°07'W40°15'N / 82°51'W17.30 Miles67 Yards00250K0Franklin14.12006-10-11239°48'N / 83°06'W1.00 Mile50 Yards0060K0KPickaway Brief Description: EVENT NARRATIVE: A tornado briefly touched down in extreme northwest Pickaway County. The damage path extended along a short length of Carson Road, just west of Interstate 71. A barn made of wood and cinder blocks was completely destroyed, with the cinder blocks being carried 200 to 300 yards away. Several pieces of wood were strewn onto neighboring properties, with some pieces impaled into the ground or asphalt. A few homes had significant roof damage and windows blown out. Large trees were snapped or uprooted along the damage path. The damage was mainly F1, with some isolated pockets of low end F2 damage up to 120 mph. EPISODE NARRATIVE: A squall line moved through central Ohio during the evening. Two tornadoes occurred in the Columbus metro area as the squall line moved through.14.31971-05-16239°50'N / 82°48'W003K0Fairfield15.22000-09-20240°08'N / 82°50'W40°11'N / 82°47'W5.00 Miles100 Yards021.0M0Delaware Brief Description: A tornado touched down in the southeastern part of the county, along Harlem road and then raced rapidly eastward to the Licking county line. Two high tension power line towers were bent over and 14 houses were either damaged or destroyed.15.71963-06-05239°46'N / 83°04'W0025K0Pickaway18.31973-05-10339°55'N / 82°48'W39°55'N / 82°30'W15.80 Miles300 Yards003K0Fairfield21.01986-03-10239°43'N / 83°12'W39°45'N / 83°13'W3.00 Miles100 Yards0102.5M0Pickaway21.61973-05-10339°55'N / 83°31'W39°55'N / 83°15'W14.10 Miles300 Yards003K0Madison22.71970-09-03339°39'N / 82°58'W39°40'N / 82°55'W2.30 Miles100 Yards0125K0Pickaway23.01986-03-10239°43'N / 83°16'W39°43'N / 83°13'W3.00 Miles100 Yards002.5M0Madison24.71974-04-03239°50'N / 83°34'W39°56'N / 83°18'W15.70 Miles180 Yards00250K0Clark25.92000-09-20240°11'N / 82°44'W40°16'N / 82°29'W16.00 Miles100 Yards001.0M100KLicking Brief Description: A tornado tracked out of Delaware county across the northwestern part of the county and then continued into Knox county. The storm lifted briefly in spots but maintained a 25 mile track across the three counties, mainly in rural areas. Eleven homes received major damage and 4 received minor damage. Several barns and outbuildings were also destroyed. Twelve buildings at the Buckeye Egg Company were destroyed, trapping one million chickens inside.26.01999-10-13339°36'N / 82°59'W39°37'N / 82°57'W3.50 Miles440 Yards064.0M0Pickaway Brief Description: A tornado touched down west of Circleville, pulling a small shed off of its foundation and destroying a section of a construction building. after this, the tornado lifted and then touched down in a more developed area in town. It destroyed a building housing two businesses and ripped the roof off of a section of a strip mall, ejecting furniture from inside the structure. A large sign weighing several hundred pounds was ripped from its foundation and blown twenty feet away. A tractor trailer with a load of 18 to 19 tons was blown over and dragged ten feet away from where it landed. The tornado then proceeded to a housing development where several homes were destroyed, several roofs ripped off, and garages either destroyed or moved from their foundations. Trees were twisted and broken off at their bases and carports were also torn from nearby houses.\r",
      "\r\n",
      "A cold front pushed east from Illinois and Indiana during the afternoon hours and combined with a vigorous upper level disturbance that dropped into the Ohio Valley from the lower Great Lakes region. These factors prompted a squall line to develop ahead of the cold front that moved southeast through the Wilmington Ohio (ILN) county warning area before entering northeast Kentucky and southeast Ohio.26.51957-06-11240°18'N / 82°42'W0.50 Mile100 Yards0025K0Knox27.11958-05-22239°35'N / 82°58'W39°37'N / 82°48'W9.00 Miles30 Yards03250K0Pickaway29.01971-02-22239°37'N / 83°15'W2.00 Miles100 Yards0025K0Fayette29.71965-04-11240°23'N / 83°15'W40°25'N / 83°01'W12.30 Miles400 Yards4352.5M0Delaware30.41973-05-10340°01'N / 83°36'W39°55'N / 83°31'W8.00 Miles300 Yards043K0Clark30.41973-05-10339°55'N / 82°30'W39°55'N / 82°20'W8.70 Miles300 Yards013K0Perry30.61965-04-11240°22'N / 83°16'W40°23'N / 83°15'W0525K0Union31.01965-11-27240°02'N / 82°27'W40°06'N / 82°22'W5.90 Miles300 Yards01250K0Licking31.71965-04-11240°25'N / 83°01'W40°28'N / 82°50'W9.90 Miles400 Yards0222.5M0Morrow31.91985-05-31340°10'N / 82°43'W40°14'N / 82°11'W27.00 Miles150 Yards12025.0M0Licking35.01958-07-22240°05'N / 82°25'W40°04'N / 82°15'W8.60 Miles200 Yards0025K0Licking35.51998-08-25240°14'N / 82°29'W40°10'N / 82°16'W10.00 Miles250 Yards00300K0Licking Brief Description: A tornado knocked down numerous trees, destroyed 2 barns, and caused significant damage to 4 homes.35.71965-11-16240°12'N / 83°36'W0.20 Mile33 Yards0425K0Champaign35.81986-03-10239°29'N / 83°34'W39°42'N / 83°17'W22.00 Miles100 Yards102.5M0Fayette36.11981-06-13239°53'N / 82°19'W2.00 Miles250 Yards02250K0Perry36.41960-08-21240°30'N / 83°11'W40°30'N / 83°05'W4.50 Miles880 Yards0025K0Marion36.81974-04-03539°47'N / 83°43'W39°55'N / 83°36'W10.90 Miles533 Yards002.5M0Clark37.51979-08-08240°31'N / 83°08'W1.20 Miles50 Yards00250K0Marion37.71981-06-13340°30'N / 82°54'W40°33'N / 82°51'W3.80 Miles350 Yards45625.0M0Morrow38.22010-09-16239°45'N / 82°24'W39°45'N / 82°16'W7.00 Miles800 Yards01500K0KPerry Brief Description: EVENT NARRATIVE: This tornado originiated in Fairfield County, but got stronger in western Perry County. The damage path widened as it crossed several north to south oriented roads. A convergent damage pattern was evident. Large trees were snapped along Avalon Road. A greater swath of tree and structural damage was along Otterbein Road. The damage path widened to as much as 800 yards, though the southern portion of the path was dominant. The tornado unleashed it worst winds as it continued east to encounter Palomino Road and County Township Road 138. At this stage, there was aproximately a 1 mile long and 100 yard wide path of EF2 strength winds, estimated at 110 to 120 mph. A manufactured home on Palomino Road was missing 95 percent of it roof covering and 40 to 50 percent of the roof supports and interior ceilings were missing. The woman inside was injured when a hallway door struck her in the back. There were at least 2 eyewitnesses to the actual tornado. Almost a mile east on County Township Road 138 a cluster of houses was heavily damaged. The worst damage was a newer 2 story single family home, but seemed to be of the manufactured home quality. Its roof and garage were completely blown off and thrown away. The tornado began to weaken as it headed across County Road 25. The tornado further weakened during its final 1.5 miles, ending near the intersection of County Roads 122, 123, and 134. About 8 homes were destroyed in this tornado. EPISODE NARRATIVE: A cold front, in tandem with strong mid and upper level forcing, produced a severe weather outbreak in southeast Ohio into extreme western West Virginia during the late afternoon and evening of Thursday the 16th. The setup featured a 45 knot mid level flow and a 95 knot upper level jet. Matter of fact, a larger area of showers, associated with a warm front, had moved across southeast Ohio and West Virginia during the morning and midday hours. This kept the surface based instability at a minimum. However, new cells formed further west during the mid afternoon over western Ohio. It was this new cluster of convection that would intensify due to the strong mid and upper level dynamics. Several of the new cells formed and intensified on the southern or southwestern flank of the overall larger area of showers and thunderstorms. This area of convection stretched further to the northeast into eastern Ohio and western Pennsylvania. This allowed an unimpeded low level moisture inflow into the new development. Surface dew points ahead of the cold front reached into the mid 60s.\n",
      "\n",
      "Most of the severe thunderstorms exhibited strong rotation, resulting in the spawning of 5 tornadoes. Four of these 5 tornadoes were in Ohio. One of the 4 Ohio tornadoes crossed from Fairfield County into western Perry County. Another 1 of the 4 crossed from Perry into northwestern Morgan County. One tornado patch was solely in western Athens County. The damage continued another 10 miles in Athens County from a strong rear flank downdraft. Finally, the last of the 4 tornadoes in Ohio crossed the Ohio River from northeastern Meigs County into southern Wood County in West Virginia. From storm surveys, this was the strongest tornado. The last tornado path in this outbreak was solely in western West Virginia. Luckily, there were no fatalities in southeastern Ohio. However, there was one death on the West Virginia side of the Ohio River.38.41989-11-15240°26'N / 82°56'W40°36'N / 82°37'W21.00 Miles73 Yards002.5M0Morrow39.01970-04-02240°24'N / 82°29'W2.00 Miles150 Yards01250K0Knox39.01982-03-31240°24'N / 82°29'W1.00 Mile200 Yards04250K0Knox39.02002-11-10340°21'N / 83°33'W40°21'N / 83°33'W2.00 Miles300 Yards0030K0Logan Brief Description: The tornado touched down across the extreme eastern part of the county and moved northeast, continuing into Union County. Two semi trailers and a shed roof were damaged.39.01970-05-14240°30'N / 82°45'W40°32'N / 82°43'W3.00 Miles700 Yards07250K0Morrow39.11970-05-13240°33'N / 82°56'W053K0Morrow39.21971-05-06240°31'N / 83°12'W40°34'N / 83°04'W7.40 Miles150 Yards03250K0Marion39.62002-11-10340°23'N / 83°32'W40°26'N / 83°27'W7.00 Miles300 Yards02500K0Union Brief Description: The tornado moved into the northwest part of the county from Logan County, tracking northeast across rural areas. Nine homes were damaged, four of which were completely destroyed. Half a dozen barn and sheds were destroyed. A 400-foot metal hi-tension cellular tower was toppled and destroyed and numerous cars were totalled. The worst damage occurred to a modular home along Newton-Perkins Road. Two individuals in the home were severely injured.39.91973-05-10340°14'N / 83°50'W40°01'N / 83°36'W19.20 Miles300 Yards003K0Champaign41.31965-11-16339°30'N / 83°29'W39°30'N / 83°24'W3.80 Miles100 Yards04250K0Fayette42.31982-04-03240°30'N / 82°33'W0.80 Mile50 Yards09250K0Knox42.81990-09-14239°29'N / 83°34'W39°32'N / 83°26'W7.00 Miles200 Yards002.5M0Fayette43.71958-06-13240°06'N / 83°50'W40°09'N / 83°45'W5.10 Miles33 Yards00250K0Champaign45.61958-07-22240°04'N / 82°15'W40°07'N / 82°01'W12.60 Miles33 Yards030K0Muskingum45.61990-06-22240°36'N / 82°40'W40°35'N / 82°37'W3.00 Miles200 Yards012.5M0Morrow46.61956-02-25239°44'N / 83°48'W0.30 Mile30 Yards00250K0Greene46.91985-05-31340°14'N / 82°11'W40°14'N / 82°08'W2.00 Miles150 Yards0025.0M0Coshocton46.91970-05-14240°17'N / 83°47'W3.00 Miles350 Yards00250K0Logan47.31963-04-19239°49'N / 83°51'W00250K0Greene47.32000-05-23240°40'N / 82°54'W40°40'N / 82°54'W3.00 Miles200 Yards00200K0Marion Brief Description: A tornado touched down near Lyons Road approximately four miles west of the Town of Martel. The observed damage path was approximately three miles in length and was oriented west to east. The width of the path varied between 100 and 200 yards. Five homes were damaged and two mobile homes destroyed. One of the mobile homes was found wrapped around a large tree.47.51962-05-26239°18'N / 82°54'W0025K0Ross47.61980-07-05240°40'N / 82°51'W0.20 Mile33 Yards0125K0Morrow47.91989-11-15240°36'N / 82°37'W40°38'N / 82°36'W2.00 Miles73 Yards002.5M0Richland48.21973-05-10240°42'N / 83°07'W40°40'N / 82°51'W13.90 Miles267 Yards003K0Marion48.61973-05-10240°40'N / 82°51'W40°38'N / 82°31'W17.30 Miles267 Yards003K0Morrow48.81997-07-02239°41'N / 83°49'W39°41'N / 83°49'W0.20 Mile300 Yards0050K0Greene Brief Description: A brief tornado developed in the apex of a bow echo that moved across the county. A house was blown off its foundation and moved 35 feet away. \r",
      "\r\n",
      "A low pressure system with an unusually strong mid and upper level jet streak was moving across the Great Lakes with an associated cold front moving across the upper Ohio valley. Thunderstorms developed across Indiana and moved into West-Central Ohio around mid-afternoon with a distinct bow echo causing wind damage from near to Lima to southeast of Columbus. On the southern edge of the first line of storms, a supercell developed over Central Indiana. This storm evolved into a bow echo and swept across the Dayton metro area causing extensive wind damage and a brief tornado in Greene county. Another supercell developed near Cincinnati and moved southeastward along the Ohio River. This storm produced the F3 tornado in Clermont county.49.71981-06-08240°32'N / 82°25'W40°32'N / 82°20'W3.80 Miles50 Yards02250K0Knox* The information on this page is based on the global volcano database, the U.S. earthquake database of 1638-1985, and the U.S. Tornado and Weather Extremes database of 1950-2010.\n",
      " <!--\r\n",
      "\twindow.google_analytics_uacct = \"UA-12906387-4\";\r\n",
      "\tgoogle_ad_client = \"ca-pub-1187797442630842\";\r\n",
      "\t/* USA.com_main_geo_pages */\r\n",
      "\tgoogle_ad_slot = \"5529445133\";\r\n",
      "\tgoogle_ad_width = 728;\r\n",
      "\tgoogle_ad_height = 90;\r\n",
      "\t//-->\r\n",
      "\t\n",
      "\n",
      "\n",
      "Columbus, OHBasic InformationPopulation and RacesIncome and CareersHousingSchool DistrictPublic SchoolsPrivate SchoolsPublic LibraryCrime and Crime RateWeatherNatural Disasters & ExtremesAir QualityEnvironmental WatchZip Code and MapsGovernmentOhio StateColumbus Area\n",
      " \n",
      "\n",
      "\r\n",
      "\t\tThe USA.com website and domain are privately owned and are not operated by or affiliated with any government or municipal authority. © 2019 World Media Group, LLC.\n",
      "\n",
      "about us | contact us | usa.com alerts | terms of use | privacy policy\n",
      "\n",
      "\n",
      "\n",
      "\r\n",
      "var _gaq = _gaq || [];\r\n",
      "_gaq.push(['_setAccount', 'UA-12906387-4']);\r\n",
      "_gaq.push(['_setDomainName', 'www.usa.com']);\r\n",
      "_gaq.push(['_trackPageview']);\r\n",
      "(function() {\r\n",
      "\tvar ga = document.createElement('script'); ga.type = 'text/javascript'; ga.async = true;\r\n",
      "\tga.src = ('https:' == document.location.protocol ? 'https://ssl' : 'http://www') + '.google-analytics.com/ga.js';\r\n",
      "\tvar s = document.getElementsByTagName('script')[0]; s.parentNode.insertBefore(ga, s);\r\n",
      "})();\r\n",
      "\n",
      "\n",
      "\n"
     ]
    }
   ],
   "source": [
    "# Coordinates for tornado disasters in Columbus, 1950-2000: http://www.usa.com/columbus-oh-natural-disasters-extremes.htm\n",
    "# df = pd.read_csv()\n",
    "import requests\n",
    "import bs4 as bs\n",
    "import re\n",
    "import numpy as np\n",
    "import pandas as pd\n",
    "from collections import Counter\n",
    "\n",
    "src = requests.get(\"http://www.usa.com/columbus-oh-natural-disasters-extremes.htm\")\n",
    "soup = bs.BeautifulSoup(src.content, features='html.parser')\n",
    "\n",
    "print(soup.text)"
   ]
  },
  {
   "cell_type": "code",
   "execution_count": null,
   "metadata": {},
   "outputs": [],
   "source": []
  }
 ],
 "metadata": {
  "kernelspec": {
   "display_name": "Python 3",
   "language": "python",
   "name": "python3"
  },
  "language_info": {
   "codemirror_mode": {
    "name": "ipython",
    "version": 3
   },
   "file_extension": ".py",
   "mimetype": "text/x-python",
   "name": "python",
   "nbconvert_exporter": "python",
   "pygments_lexer": "ipython3",
   "version": "3.6.7"
  }
 },
 "nbformat": 4,
 "nbformat_minor": 2
}
